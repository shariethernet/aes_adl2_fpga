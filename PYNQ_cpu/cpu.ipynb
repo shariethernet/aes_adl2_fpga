{
 "cells": [
  {
   "cell_type": "markdown",
   "id": "fe558359",
   "metadata": {},
   "source": [
    "# Single Cycle CPU Assignment\n",
    "## This Jupyter notebook will run the design on FPGA and display the maximum frequency of the design"
   ]
  },
  {
   "cell_type": "code",
   "execution_count": null,
   "id": "7cd0f68a",
   "metadata": {},
   "outputs": [],
   "source": [
    "from pynq import Overlay, Clocks"
   ]
  },
  {
   "cell_type": "code",
   "execution_count": null,
   "id": "f75d5ba8",
   "metadata": {},
   "outputs": [],
   "source": [
    "# Function to write instructions to registers\n",
    "def write(idata):\n",
    "    f = open(idata, \"r\")\n",
    "    for count, line in enumerate(f.readlines()):\n",
    "        cpu_ip.write(int(count*4),int(line, 16))\n",
    "    \n",
    "\n",
    "# Function to read RISCV 32 Registers\n",
    "def read():\n",
    "    out = []\n",
    "    for i in range(32,64):\n",
    "        out.append(cpu_ip.read(int(i*4)))\n",
    "    return out\n"
   ]
  },
  {
   "cell_type": "code",
   "execution_count": null,
   "id": "c919db2d",
   "metadata": {},
   "outputs": [],
   "source": [
    "clocks = [50, 100, 125, 142, 200]\n",
    "for i in range(0,6):\n",
    "    print(\"Testing \"+\"idata\"+str(i+1)+\".txt\")\n",
    "    f = open(\"expout\"+str(i+1)+\".txt\", \"r\")        # Expected output file\n",
    "    out_crct = []\n",
    "    for line in f.readlines():\n",
    "        out_crct.append(int(line))\n",
    "    for clock in clocks:\n",
    "        ol_cpu = Overlay('overlay/harness_axi.bit')    # Programming the bitstream onto the FPGA\n",
    "        cpu_ip = ol_cpu.harness_axi_ip_v1_0_0          # RISCV CPU Verilog IP\n",
    "        Clocks.fclk1_mhz = clock                       # Set clock frequency in MHz\n",
    "        cpu_ip.write(int(64*4),1)                      # Assign reset to 1\n",
    "        write(\"idata\"+str(i+1)+\".txt\")                 # Write instructions\n",
    "        cpu_ip.write(int(64*4),1)                      # Assign reset to 1\n",
    "        cpu_ip.write(int(64*4),0)                      # Assign reset to 0\n",
    "        out = read()                                   # Read registers\n",
    "        \n",
    "        \n",
    "        # Increase the clock frequency untill timing violations occur\n",
    "        if out==out_crct:                              # Check if expected and obtained register values\n",
    "            print(\"\\t\", \"Frequency at\", clock, \"MHz: Passed\")\n",
    "            clock += 50\n",
    "        else:\n",
    "            print(\"\\t\", \"Frequency at\", clock, \"MHz: Not passed\")\n",
    "#             Use below lines for debug\n",
    "#             print(\"Expected result: \", out_crct)\n",
    "#             print(\"Obtained result: \", out)\n"
   ]
  },
  {
   "cell_type": "markdown",
   "id": "ef41fed4",
   "metadata": {},
   "source": [
    "We can observe that most of the programs work fine upto 100MHz frequency"
   ]
  }
 ],
 "metadata": {
  "kernelspec": {
   "display_name": "Python 3",
   "language": "python",
   "name": "python3"
  },
  "language_info": {
   "codemirror_mode": {
    "name": "ipython",
    "version": 3
   },
   "file_extension": ".py",
   "mimetype": "text/x-python",
   "name": "python",
   "nbconvert_exporter": "python",
   "pygments_lexer": "ipython3",
   "version": "3.8.2"
  }
 },
 "nbformat": 4,
 "nbformat_minor": 5
}
