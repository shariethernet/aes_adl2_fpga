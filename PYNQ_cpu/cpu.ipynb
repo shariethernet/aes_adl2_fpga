{
 "cells": [
  {
   "cell_type": "markdown",
   "id": "fe558359",
   "metadata": {},
   "source": [
    "# Single Cycle CPU Assignment\n",
    "## This Jupyter notebook will run the design on FPGA and display the maximum frequency of the design"
   ]
  },
  {
   "cell_type": "code",
   "execution_count": 1,
   "id": "7cd0f68a",
   "metadata": {},
   "outputs": [
    {
     "data": {
      "application/javascript": [
       "\n",
       "try {\n",
       "require(['notebook/js/codecell'], function(codecell) {\n",
       "  codecell.CodeCell.options_default.highlight_modes[\n",
       "      'magic_text/x-csrc'] = {'reg':[/^%%microblaze/]};\n",
       "  Jupyter.notebook.events.one('kernel_ready.Kernel', function(){\n",
       "      Jupyter.notebook.get_cells().map(function(cell){\n",
       "          if (cell.cell_type == 'code'){ cell.auto_highlight(); } }) ;\n",
       "  });\n",
       "});\n",
       "} catch (e) {};\n"
      ]
     },
     "metadata": {},
     "output_type": "display_data"
    },
    {
     "data": {
      "application/javascript": [
       "\n",
       "try {\n",
       "require(['notebook/js/codecell'], function(codecell) {\n",
       "  codecell.CodeCell.options_default.highlight_modes[\n",
       "      'magic_text/x-csrc'] = {'reg':[/^%%pybind11/]};\n",
       "  Jupyter.notebook.events.one('kernel_ready.Kernel', function(){\n",
       "      Jupyter.notebook.get_cells().map(function(cell){\n",
       "          if (cell.cell_type == 'code'){ cell.auto_highlight(); } }) ;\n",
       "  });\n",
       "});\n",
       "} catch (e) {};\n"
      ]
     },
     "metadata": {},
     "output_type": "display_data"
    }
   ],
   "source": [
    "from pynq import Overlay, Clocks"
   ]
  },
  {
   "cell_type": "code",
   "execution_count": 2,
   "id": "f75d5ba8",
   "metadata": {},
   "outputs": [],
   "source": [
    "# Function to write instructions to registers\n",
    "def write(idata):\n",
    "    f = open(idata, \"r\")\n",
    "    for count, line in enumerate(f.readlines()):\n",
    "        cpu_ip.write(int(count*4),int(line, 16))\n",
    "    \n",
    "\n",
    "# Function to read RISCV 32 Registers\n",
    "def read():\n",
    "    out = []\n",
    "    for i in range(32,64):\n",
    "        out.append(cpu_ip.read(int(i*4)))\n",
    "    return out\n"
   ]
  },
  {
   "cell_type": "code",
   "execution_count": 4,
   "id": "c919db2d",
   "metadata": {},
   "outputs": [
    {
     "name": "stdout",
     "output_type": "stream",
     "text": [
      "Testing idata1.txt\n",
      "\t Frequency at 50 MHz: Passed\n",
      "\t Frequency at 100 MHz: Passed\n",
      "\t Frequency at 125 MHz: Passed\n",
      "\t Frequency at 142 MHz: Not passed\n",
      "Expected result:  [0, 7, 4, 0, 0, 0, 0, 0, 0, 0, 0, 0, 0, 0, 0, 0, 0, 0, 0, 0, 0, 0, 0, 0, 0, 0, 0, 0, 0, 0, 0, 1]\n",
      "Obtained result:  [0, 0, 4, 0, 0, 0, 0, 0, 0, 0, 0, 0, 0, 0, 0, 4, 0, 0, 0, 0, 0, 0, 0, 0, 0, 0, 0, 0, 0, 0, 0, 0]\n",
      "\t Frequency at 200 MHz: Not passed\n",
      "Expected result:  [0, 7, 4, 0, 0, 0, 0, 0, 0, 0, 0, 0, 0, 0, 0, 0, 0, 0, 0, 0, 0, 0, 0, 0, 0, 0, 0, 0, 0, 0, 0, 1]\n",
      "Obtained result:  [0, 0, 4, 4, 0, 0, 0, 0, 0, 0, 0, 0, 0, 0, 0, 0, 0, 0, 0, 1, 0, 0, 0, 0, 0, 0, 0, 1, 0, 0, 0, 0]\n",
      "Testing idata2.txt\n",
      "\t Frequency at 50 MHz: Passed\n",
      "\t Frequency at 100 MHz: Passed\n",
      "\t Frequency at 125 MHz: Passed\n",
      "\t Frequency at 142 MHz: Not passed\n",
      "Expected result:  [0, 81920, 20, 16400, 28, 28, 44, 44, 0, 0, 0, 0, 0, 0, 0, 0, 0, 0, 0, 0, 0, 0, 0, 0, 0, 0, 0, 0, 0, 0, 0, 0]\n",
      "Obtained result:  [0, 81920, 65556, 8388624, 28, 28, 0, 0, 0, 0, 0, 0, 0, 0, 0, 0, 0, 0, 0, 0, 0, 0, 0, 0, 0, 0, 0, 0, 0, 0, 0, 16777217]\n",
      "\t Frequency at 200 MHz: Not passed\n",
      "Expected result:  [0, 81920, 20, 16400, 28, 28, 44, 44, 0, 0, 0, 0, 0, 0, 0, 0, 0, 0, 0, 0, 0, 0, 0, 0, 0, 0, 0, 0, 0, 0, 0, 0]\n",
      "Obtained result:  [0, 532, 0, 20, 98844, 44, 4, 268435488, 0, 0, 0, 80, 0, 0, 0, 0, 0, 0, 0, 16384, 24, 16, 4, 0, 0, 0, 0, 0, 0, 0, 0, 0]\n",
      "Testing idata3.txt\n",
      "\t Frequency at 50 MHz: Passed\n",
      "\t Frequency at 100 MHz: Passed\n",
      "\t Frequency at 125 MHz: Passed\n",
      "\t Frequency at 142 MHz: Not passed\n",
      "Expected result:  [0, 259, 259, 0, 259, 0, 0, 0, 0, 0, 0, 0, 0, 0, 0, 0, 0, 0, 0, 0, 0, 0, 0, 0, 0, 0, 0, 0, 0, 0, 0, 0]\n",
      "Obtained result:  [0, 259, 259, 3189767939, 256, 3, 0, 0, 134217728, 0, 3191269126, 0, 0, 0, 0, 0, 0, 0, 0, 0, 0, 0, 0, 0, 0, 0, 0, 0, 0, 0, 0, 0]\n",
      "\t Frequency at 200 MHz: Not passed\n",
      "Expected result:  [0, 259, 259, 0, 259, 0, 0, 0, 0, 0, 0, 0, 0, 0, 0, 0, 0, 0, 0, 0, 0, 0, 0, 0, 0, 0, 0, 0, 0, 0, 0, 0]\n",
      "Obtained result:  [0, 0, 8192, 2215839238, 0, 2752766980, 0, 0, 33554432, 0, 840048642, 0, 536870912, 0, 0, 0, 0, 0, 0, 0, 0, 0, 0, 0, 0, 0, 0, 0, 0, 0, 0, 0]\n",
      "Testing idata4.txt\n",
      "\t Frequency at 50 MHz: Passed\n",
      "\t Frequency at 100 MHz: Passed\n",
      "\t Frequency at 125 MHz: Not passed\n",
      "Expected result:  [0, 0, 0, 0, 0, 0, 0, 0, 0, 0, 0, 4, 60, 10, 60, 10, 70, 70, 0, 0, 0, 0, 0, 0, 0, 0, 0, 0, 0, 0, 0, 0]\n",
      "Obtained result:  [0, 0, 0, 0, 0, 0, 50, 0, 0, 0, 0, 4, 60, 10, 10, 10, 70, 20, 0, 0, 0, 0, 0, 0, 0, 0, 0, 0, 0, 0, 0, 0]\n",
      "\t Frequency at 142 MHz: Not passed\n",
      "Expected result:  [0, 0, 0, 0, 0, 0, 0, 0, 0, 0, 0, 4, 60, 10, 60, 10, 70, 70, 0, 0, 0, 0, 0, 0, 0, 0, 0, 0, 0, 0, 0, 0]\n",
      "Obtained result:  [0, 0, 0, 0, 0, 0, 10485836, 0, 0, 0, 0, 4, 60, 10, 10, 16, 94, 26, 0, 0, 0, 0, 0, 0, 0, 0, 0, 0, 0, 0, 0, 0]\n",
      "\t Frequency at 200 MHz: Not passed\n",
      "Expected result:  [0, 0, 0, 0, 0, 0, 0, 0, 0, 0, 0, 4, 60, 10, 60, 10, 70, 70, 0, 0, 0, 0, 0, 0, 0, 0, 0, 0, 0, 0, 0, 0]\n",
      "Obtained result:  [0, 0, 0, 0, 1207959552, 0, 3457597440, 2, 0, 0, 0, 0, 16, 60, 0, 0, 0, 68, 0, 0, 0, 0, 0, 0, 0, 0, 0, 0, 0, 0, 0, 0]\n",
      "Testing idata5.txt\n",
      "\t Frequency at 50 MHz: Passed\n",
      "\t Frequency at 100 MHz: Passed\n",
      "\t Frequency at 125 MHz: Passed\n",
      "\t Frequency at 142 MHz: Not passed\n",
      "Expected result:  [0, 0, 0, 0, 0, 0, 0, 0, 0, 0, 0, 0, 0, 0, 0, 10, 0, 0, 0, 0, 0, 0, 0, 0, 0, 0, 0, 0, 0, 0, 0, 0]\n",
      "Obtained result:  [0, 0, 0, 0, 0, 0, 0, 0, 8388624, 0, 0, 0, 0, 0, 0, 2, 0, 0, 0, 0, 0, 0, 0, 0, 0, 0, 0, 0, 1, 0, 0, 0]\n",
      "\t Frequency at 200 MHz: Not passed\n",
      "Expected result:  [0, 0, 0, 0, 0, 0, 0, 0, 0, 0, 0, 0, 0, 0, 0, 10, 0, 0, 0, 0, 0, 0, 0, 0, 0, 0, 0, 0, 0, 0, 0, 0]\n",
      "Obtained result:  [0, 0, 0, 0, 268435456, 0, 2100224, 0, 4194304, 0, 14738177, 4229350414, 0, 0, 4, 10292, 0, 0, 0, 0, 0, 0, 0, 0, 4194336, 0, 0, 32, 37748736, 33554440, 0, 66560]\n",
      "Testing idata6.txt\n",
      "\t Frequency at 50 MHz: Passed\n",
      "\t Frequency at 100 MHz: Passed\n",
      "\t Frequency at 125 MHz: Not passed\n",
      "Expected result:  [0, 0, 0, 0, 0, 0, 0, 0, 496, 0, 0, 0, 0, 0, 97, 0, 0, 0, 0, 0, 0, 0, 0, 0, 0, 0, 0, 0, 0, 0, 0, 0]\n",
      "Obtained result:  [0, 0, 0, 0, 0, 0, 0, 0, 496, 0, 98, 0, 0, 0, 98, 98, 0, 0, 0, 0, 0, 0, 0, 0, 0, 0, 0, 0, 0, 0, 0, 0]\n",
      "\t Frequency at 142 MHz: Not passed\n",
      "Expected result:  [0, 0, 0, 0, 0, 0, 0, 0, 496, 0, 0, 0, 0, 0, 97, 0, 0, 0, 0, 0, 0, 0, 0, 0, 0, 0, 0, 0, 0, 0, 0, 0]\n",
      "Obtained result:  [0, 6, 0, 0, 0, 0, 0, 0, 134218224, 0, 4294917535, 0, 0, 0, 0, 4294917535, 0, 0, 0, 0, 0, 0, 0, 0, 0, 0, 0, 0, 0, 0, 0, 0]\n",
      "\t Frequency at 200 MHz: Not passed\n",
      "Expected result:  [0, 0, 0, 0, 0, 0, 0, 0, 496, 0, 0, 0, 0, 0, 97, 0, 0, 0, 0, 0, 0, 0, 0, 0, 0, 0, 0, 0, 0, 0, 0, 0]\n",
      "Obtained result:  [0, 2521268352, 0, 0, 0, 16, 0, 0, 37748769, 0, 2976512955, 42497, 536870912, 0, 0, 3028344929, 0, 0, 0, 0, 0, 0, 0, 0, 0, 0, 0, 0, 0, 0, 0, 0]\n"
     ]
    }
   ],
   "source": [
    "clocks = [50, 100, 125, 142, 200]\n",
    "for i in range(0,6):\n",
    "    print(\"Testing \"+\"idata\"+str(i+1)+\".txt\")\n",
    "    f = open(\"expout\"+str(i+1)+\".txt\", \"r\")        # Expected output file\n",
    "    out_crct = []\n",
    "    for line in f.readlines():\n",
    "        out_crct.append(int(line))\n",
    "    for clock in clocks:\n",
    "        ol_cpu = Overlay('overlay/harness_axi.bit')    # Programming the bitstream onto the FPGA\n",
    "        cpu_ip = ol_cpu.harness_axi_ip_v1_0_0          # RISCV CPU Verilog IP\n",
    "        Clocks.fclk1_mhz = clock                       # Set clock frequency in MHz\n",
    "        cpu_ip.write(int(64*4),1)                      # Assign reset to 1\n",
    "        write(\"idata\"+str(i+1)+\".txt\")                 # Write instructions\n",
    "        cpu_ip.write(int(64*4),1)                      # Assign reset to 1\n",
    "        cpu_ip.write(int(64*4),0)                      # Assign reset to 0\n",
    "        out = read()                                   # Read registers\n",
    "        \n",
    "        \n",
    "        # Increase the clock frequency untill timing violations occur\n",
    "        if out==out_crct:                              # Check if expected and obtained register values\n",
    "            print(\"\\t\", \"Frequency at\", clock, \"MHz: Passed\")\n",
    "            clock += 50\n",
    "        else:\n",
    "            print(\"\\t\", \"Frequency at\", clock, \"MHz: Not passed\")\n",
    "#             Use below lines for debug\n",
    "#             print(\"Expected result: \", out_crct)\n",
    "#             print(\"Obtained result: \", out)\n"
   ]
  },
  {
   "cell_type": "markdown",
   "id": "ef41fed4",
   "metadata": {},
   "source": [
    "We can observe that most of the programs work fine upto 100MHz frequency"
   ]
  }
 ],
 "metadata": {
  "kernelspec": {
   "display_name": "Python 3",
   "language": "python",
   "name": "python3"
  },
  "language_info": {
   "codemirror_mode": {
    "name": "ipython",
    "version": 3
   },
   "file_extension": ".py",
   "mimetype": "text/x-python",
   "name": "python",
   "nbconvert_exporter": "python",
   "pygments_lexer": "ipython3",
   "version": "3.8.2"
  }
 },
 "nbformat": 4,
 "nbformat_minor": 5
}
