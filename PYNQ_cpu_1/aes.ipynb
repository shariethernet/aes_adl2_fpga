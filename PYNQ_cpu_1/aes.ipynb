{
 "cells": [
  {
   "cell_type": "markdown",
   "id": "fe558359",
   "metadata": {},
   "source": [
    "# Test AES Design\n",
    "## This Jupyter notebook will run the design on FPGA \n",
    "### WHen configured can also display the maximum frequency of the design"
   ]
  },
  {
   "cell_type": "code",
   "execution_count": null,
   "id": "7cd0f68a",
   "metadata": {},
   "outputs": [],
   "source": [
    "from pynq import Overlay, Clocks"
   ]
  },
  {
   "cell_type": "code",
   "execution_count": null,
   "id": "f75d5ba8",
   "metadata": {},
   "outputs": [],
   "source": [
    "# Function to write instructions to registers\n",
    "def write(idata):\n",
    "    f = open(idata, \"r\")\n",
    "    for count, line in enumerate(f.readlines()):\n",
    "        cpu_ip.write(int(count*4),int(line, 16))\n",
    "    \n",
    "\n",
    "# Function to read RISCV 32 Registers\n",
    "def read():\n",
    "    out = []\n",
    "    for i in range(32,64):\n",
    "        out.append(cpu_ip.read(int(i*4)))\n",
    "    return out\n"
   ]
  },
  {
   "cell_type": "code",
   "execution_count": null,
   "id": "c919db2d",
   "metadata": {},
   "outputs": [],
   "source": [
    "clocks = [50, 100, 125, 142, 200]\n",
    "for i in range(0,6):\n",
    "    print(\"Testing \"+\"idata\"+str(i+1)+\".txt\")\n",
    "    f = open(\"expout\"+str(i+1)+\".txt\", \"r\")        # Expected output file\n",
    "    out_crct = []\n",
    "    for line in f.readlines():\n",
    "        out_crct.append(int(line))\n",
    "    for clock in clocks:\n",
    "        ol_cpu = Overlay('overlay/harness_axi.bit')    # Programming the bitstream onto the FPGA\n",
    "        cpu_ip = ol_cpu.harness_axi_ip_v1_0_0          # RISCV CPU Verilog IP\n",
    "        Clocks.fclk1_mhz = clock                       # Set clock frequency in MHz\n",
    "        cpu_ip.write(int(64*4),1)                      # Assign reset to 1\n",
    "        write(\"idata\"+str(i+1)+\".txt\")                 # Write instructions\n",
    "        cpu_ip.write(int(64*4),1)                      # Assign reset to 1\n",
    "        cpu_ip.write(int(64*4),0)                      # Assign reset to 0\n",
    "        out = read()                                   # Read registers\n",
    "        \n",
    "        \n",
    "        # Increase the clock frequency untill timing violations occur\n",
    "        if out==out_crct:                              # Check if expected and obtained register values\n",
    "            print(\"\\t\", \"Frequency at\", clock, \"MHz: Passed\")\n",
    "            clock += 50\n",
    "        else:\n",
    "            print(\"\\t\", \"Frequency at\", clock, \"MHz: Not passed\")\n",
    "#             Use below lines for debug\n",
    "#             print(\"Expected result: \", out_crct)\n",
    "#             print(\"Obtained result: \", out)\n"
   ]
  },
  {
   "cell_type": "markdown",
   "id": "da909010",
   "metadata": {},
   "source": [
    "KEY 128'h00010203 04050607 08090a0b 0c0d0e0f\n",
    "IN  128'hB9D1C48E 348FE771 FA464A77 A178FB07\n",
    "OUT 128'h95F88473 69A8573D 76AF987A B30A5DE2"
   ]
  },
  {
   "cell_type": "code",
   "execution_count": null,
   "id": "31ed307e",
   "metadata": {},
   "outputs": [],
   "source": [
    "ol_aes = Overlay('overlay/harness_axi.bit')    # Programming the bitstream onto the FPGA\n",
    "aes_ip = ol_aes.harness_axi_ip_v1_0_0          # RISCV CPU Verilog IP\n",
    "Clocks.fclk1_mhz = clock                       # Set clock frequency in MHz\n",
    "aes_ip.write(int(64*4),0)                      # Assign reset to 0, we have a active low reset\n",
    "aes_ip.write(int(0*4),0xa178fb07)              #in0\n",
    "aes_ip.write(int(1*4),0xfa464a77)              #in1\n",
    "aes_ip.write(int(2*4),0x348fe771)              #in2\n",
    "aes_ip.write(int(3*4),0xb9d1c48e)              #in3\n",
    "\n",
    "aes_ip.write(int(4*4),0x0c0d0e0f)              #key0\n",
    "aes_ip.write(int(5*4),0x08090a0b)              #key1\n",
    "aes_ip.write(int(6*4),0x04050607)              #key2\n",
    "aes_ip.write(int(7*4),0x00010203)              #key3\n",
    "\n",
    "aes_ip.write(int(8*4),0x1) #KRdy\n",
    "aes_ip.write(int(9*4),0x1) #DRdy\n",
    "aes_ip.write(int(64*4),1)                      # Assign reset to 1 , remove the reset\n",
    "\n",
    "out0 = 0x0\n",
    "out1= 0x0\n",
    "out2= 0x0\n",
    "out3= 0x0\n",
    "while 1:\n",
    "    if aes_ip.read(int(36*4) == 1):\n",
    "        continue\n",
    "    else:\n",
    "        out0 = aes_ip.read(int(32*4))\n",
    "        out1 = aes_ip.read(int(33*4))\n",
    "        out2 = aes_ip.read(int(34*4))\n",
    "        out3 = aes_ip.read(int(35*4))\n",
    "\n",
    "print(\"out0: \", out0)\n",
    "print(\"out1: \", out1)\n",
    "print(\"out2: \", out2)\n",
    "print(\"out3: \", out3)\n",
    "\n",
    "\n",
    "\n"
   ]
  }
 ],
 "metadata": {
  "kernelspec": {
   "display_name": "Python 3",
   "language": "python",
   "name": "python3"
  },
  "language_info": {
   "codemirror_mode": {
    "name": "ipython",
    "version": 3
   },
   "file_extension": ".py",
   "mimetype": "text/x-python",
   "name": "python",
   "nbconvert_exporter": "python",
   "pygments_lexer": "ipython3",
   "version": "3.8.2"
  }
 },
 "nbformat": 4,
 "nbformat_minor": 5
}
